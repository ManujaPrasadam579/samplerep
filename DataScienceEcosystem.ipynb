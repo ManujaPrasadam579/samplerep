{
 "cells": [
  {
   "cell_type": "markdown",
   "id": "397b7f0e-4fbe-4f7f-869c-aa7a812da53d",
   "metadata": {},
   "source": [
    "# Data Science Tools and Ecosystem"
   ]
  },
  {
   "cell_type": "markdown",
   "id": "05ee7868-fbdb-49f3-a244-c4af9b2a1b93",
   "metadata": {},
   "source": [
    "In this notebook, Data Science Tools and Ecosystem are summarized."
   ]
  },
  {
   "cell_type": "markdown",
   "id": "7d22f472-a2fe-4cf4-80a2-1ca800b036e1",
   "metadata": {},
   "source": [
    "Some of the popular languages that Data Scientists use are:\n",
    "\n",
    "1. Python\n",
    "2. Scala\n",
    "3. R"
   ]
  },
  {
   "cell_type": "markdown",
   "id": "695956e7-1061-446a-8f23-0f90d9ec8d01",
   "metadata": {},
   "source": [
    "Some of the commonly used libraries used by Data Scientists include:\n",
    "1. Matplotlib\n",
    "2. Numpy\n",
    "3. Pandas"
   ]
  },
  {
   "cell_type": "markdown",
   "id": "a84bb282-4e44-4535-89e3-4fe4aa12f663",
   "metadata": {},
   "source": [
    "|Data Science Tools|\n",
    "|------------------|\n",
    "|Jupyter|\n",
    "|Rstudios|\n",
    "|VS code|"
   ]
  },
  {
   "cell_type": "markdown",
   "id": "259a0d18-217e-460a-bbbf-7567be5d0bf2",
   "metadata": {},
   "source": [
    "### Below are a few examples of evaluating arithmetic expressions in Python"
   ]
  },
  {
   "cell_type": "code",
   "execution_count": 1,
   "id": "3accad0e-4d3a-4c7d-9d18-12594029ea0a",
   "metadata": {},
   "outputs": [
    {
     "data": {
      "text/plain": [
       "17"
      ]
     },
     "execution_count": 1,
     "metadata": {},
     "output_type": "execute_result"
    }
   ],
   "source": [
    "# This a simple arithmetic expression to mutiply then add integers\n",
    "\n",
    "(3*4)+5"
   ]
  },
  {
   "cell_type": "code",
   "execution_count": 2,
   "id": "f1d4305f-b262-471b-a075-c96ff0608181",
   "metadata": {},
   "outputs": [
    {
     "data": {
      "text/plain": [
       "3.3333333333333335"
      ]
     },
     "execution_count": 2,
     "metadata": {},
     "output_type": "execute_result"
    }
   ],
   "source": [
    "# This will convert 200 minutes to hours by diving by 60\n",
    "\n",
    "200/60\n"
   ]
  },
  {
   "cell_type": "markdown",
   "id": "fd7352c4-cad9-4f25-82ed-b1904456e78d",
   "metadata": {},
   "source": [
    "**Objectives:**\n",
    "  \n",
    "+ Python\n",
    "+ Scala\n",
    "+ R\n",
    "+ JAVA"
   ]
  },
  {
   "cell_type": "markdown",
   "id": "3f37c86c-5580-4adb-ad60-25519c502f1a",
   "metadata": {},
   "source": [
    "## Author\n",
    "Manuja"
   ]
  },
  {
   "cell_type": "code",
   "execution_count": null,
   "id": "b8e1803c-c351-4eda-96b8-7877d04492a7",
   "metadata": {},
   "outputs": [],
   "source": []
  }
 ],
 "metadata": {
  "kernelspec": {
   "display_name": "Python [conda env:base] *",
   "language": "python",
   "name": "conda-base-py"
  },
  "language_info": {
   "codemirror_mode": {
    "name": "ipython",
    "version": 3
   },
   "file_extension": ".py",
   "mimetype": "text/x-python",
   "name": "python",
   "nbconvert_exporter": "python",
   "pygments_lexer": "ipython3",
   "version": "3.13.5"
  }
 },
 "nbformat": 4,
 "nbformat_minor": 5
}
